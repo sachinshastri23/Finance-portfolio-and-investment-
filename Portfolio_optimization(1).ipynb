{
  "nbformat": 4,
  "nbformat_minor": 0,
  "metadata": {
    "colab": {
      "name": "Portfolio optimization.ipynb",
      "provenance": [],
      "collapsed_sections": []
    },
    "kernelspec": {
      "name": "python3",
      "display_name": "Python 3"
    },
    "language_info": {
      "name": "python"
    }
  },
  "cells": [
    {
      "cell_type": "code",
      "metadata": {
        "id": "fN46zMJw4LT6"
      },
      "source": [
        "from pandas_datareader import data as web\n",
        "import numpy as np\n",
        "import pandas as pd\n",
        "from datetime import datetime\n",
        "import matplotlib.pyplot as plt"
      ],
      "execution_count": 7,
      "outputs": []
    },
    {
      "cell_type": "code",
      "metadata": {
        "id": "o5XT4UYZ4lQP"
      },
      "source": [
        "prtfolio=['AMZ','FB','AAPL','NFLX','GOOG']"
      ],
      "execution_count": 8,
      "outputs": []
    },
    {
      "cell_type": "code",
      "metadata": {
        "id": "X8R2C_Dl5D09"
      },
      "source": [
        "weights=np.array([0.2,0.2,0.2,0.2,0.2])"
      ],
      "execution_count": 9,
      "outputs": []
    },
    {
      "cell_type": "code",
      "metadata": {
        "id": "FzvSIfoP5f6G"
      },
      "source": [
        "stockStartDate='2014-01-01'"
      ],
      "execution_count": 10,
      "outputs": []
    },
    {
      "cell_type": "code",
      "metadata": {
        "colab": {
          "base_uri": "https://localhost:8080/",
          "height": 36
        },
        "id": "DVpm2Qcu5zW_",
        "outputId": "209981dd-7804-41fd-e91f-35c63122ada5"
      },
      "source": [
        "today=datetime.today().strftime('%Y-%m-%d')\n",
        "today"
      ],
      "execution_count": 11,
      "outputs": [
        {
          "output_type": "execute_result",
          "data": {
            "application/vnd.google.colaboratory.intrinsic+json": {
              "type": "string"
            },
            "text/plain": [
              "'2021-04-22'"
            ]
          },
          "metadata": {
            "tags": []
          },
          "execution_count": 11
        }
      ]
    },
    {
      "cell_type": "code",
      "metadata": {
        "id": "lDUAz8Ei6I0p"
      },
      "source": [
        "df=pd.DataFrame()\n",
        "\n",
        "for stock in prtfolio:\n",
        "  df[stock]=web.DataReader(stock,data_source='yahoo',start=stockStartDate,end=today)['Adj Close']"
      ],
      "execution_count": 12,
      "outputs": []
    },
    {
      "cell_type": "code",
      "metadata": {
        "colab": {
          "base_uri": "https://localhost:8080/",
          "height": 238
        },
        "id": "7FHwS-4E7E1T",
        "outputId": "db342aff-1dc6-48d3-b34c-068ec5ce02dc"
      },
      "source": [
        "df.head()"
      ],
      "execution_count": 13,
      "outputs": [
        {
          "output_type": "execute_result",
          "data": {
            "text/html": [
              "<div>\n",
              "<style scoped>\n",
              "    .dataframe tbody tr th:only-of-type {\n",
              "        vertical-align: middle;\n",
              "    }\n",
              "\n",
              "    .dataframe tbody tr th {\n",
              "        vertical-align: top;\n",
              "    }\n",
              "\n",
              "    .dataframe thead th {\n",
              "        text-align: right;\n",
              "    }\n",
              "</style>\n",
              "<table border=\"1\" class=\"dataframe\">\n",
              "  <thead>\n",
              "    <tr style=\"text-align: right;\">\n",
              "      <th></th>\n",
              "      <th>AMZ</th>\n",
              "      <th>FB</th>\n",
              "      <th>AAPL</th>\n",
              "      <th>NFLX</th>\n",
              "      <th>GOOG</th>\n",
              "    </tr>\n",
              "    <tr>\n",
              "      <th>Date</th>\n",
              "      <th></th>\n",
              "      <th></th>\n",
              "      <th></th>\n",
              "      <th></th>\n",
              "      <th></th>\n",
              "    </tr>\n",
              "  </thead>\n",
              "  <tbody>\n",
              "    <tr>\n",
              "      <th>2014-01-02</th>\n",
              "      <td>290.350006</td>\n",
              "      <td>54.709999</td>\n",
              "      <td>17.598297</td>\n",
              "      <td>51.831429</td>\n",
              "      <td>554.481689</td>\n",
              "    </tr>\n",
              "    <tr>\n",
              "      <th>2014-01-03</th>\n",
              "      <td>293.549988</td>\n",
              "      <td>54.560001</td>\n",
              "      <td>17.211735</td>\n",
              "      <td>51.871429</td>\n",
              "      <td>550.436829</td>\n",
              "    </tr>\n",
              "    <tr>\n",
              "      <th>2014-01-06</th>\n",
              "      <td>286.549988</td>\n",
              "      <td>57.200001</td>\n",
              "      <td>17.305593</td>\n",
              "      <td>51.367142</td>\n",
              "      <td>556.573853</td>\n",
              "    </tr>\n",
              "    <tr>\n",
              "      <th>2014-01-07</th>\n",
              "      <td>292.549988</td>\n",
              "      <td>57.919998</td>\n",
              "      <td>17.181829</td>\n",
              "      <td>48.500000</td>\n",
              "      <td>567.303589</td>\n",
              "    </tr>\n",
              "    <tr>\n",
              "      <th>2014-01-08</th>\n",
              "      <td>294.549988</td>\n",
              "      <td>58.230000</td>\n",
              "      <td>17.290642</td>\n",
              "      <td>48.712856</td>\n",
              "      <td>568.484192</td>\n",
              "    </tr>\n",
              "  </tbody>\n",
              "</table>\n",
              "</div>"
            ],
            "text/plain": [
              "                   AMZ         FB       AAPL       NFLX        GOOG\n",
              "Date                                                               \n",
              "2014-01-02  290.350006  54.709999  17.598297  51.831429  554.481689\n",
              "2014-01-03  293.549988  54.560001  17.211735  51.871429  550.436829\n",
              "2014-01-06  286.549988  57.200001  17.305593  51.367142  556.573853\n",
              "2014-01-07  292.549988  57.919998  17.181829  48.500000  567.303589\n",
              "2014-01-08  294.549988  58.230000  17.290642  48.712856  568.484192"
            ]
          },
          "metadata": {
            "tags": []
          },
          "execution_count": 13
        }
      ]
    },
    {
      "cell_type": "code",
      "metadata": {
        "colab": {
          "base_uri": "https://localhost:8080/",
          "height": 288
        },
        "id": "II5UyF_17Pl2",
        "outputId": "d1c45987-4bca-4dba-c42e-64c63669a296"
      },
      "source": [
        "for c in df.columns.values:\n",
        "  plt.plot(df[c],label=c)\n",
        "\n",
        "plt.xlabel('Date',fontsize=20)\n",
        "plt.ylabel('Close Price in USD',fontsize=20)\n",
        "plt.legend(df.columns.values, loc='upper left')\n",
        "plt.show()"
      ],
      "execution_count": 14,
      "outputs": [
        {
          "output_type": "display_data",
          "data": {
            "image/png": "[encoded data removed]",
            "text/plain": [
              "<Figure size 432x288 with 1 Axes>"
            ]
          },
          "metadata": {
            "tags": [],
            "needs_background": "light"
          }
        }
      ]
    },
    {
      "cell_type": "code",
      "metadata": {
        "colab": {
          "base_uri": "https://localhost:8080/",
          "height": 288
        },
        "id": "unMlvHzc8Ucy",
        "outputId": "419d129a-baea-4bc2-ebc7-814a9db28466"
      },
      "source": [
        "returns=df.pct_change()\n",
        "\n",
        "for c in returns.columns.values:\n",
        "  plt.plot(returns[c],label=c)\n",
        "\n",
        "plt.xlabel('Date',fontsize=20)\n",
        "plt.ylabel('daily returns',fontsize=20)\n",
        "plt.legend(returns.columns.values, loc='upper left')\n",
        "plt.show()\n"
      ],
      "execution_count": 15,
      "outputs": [
        {
          "output_type": "display_data",
          "data": {
            "image/png": "[encoded data removed]",
            "text/plain": [
              "<Figure size 432x288 with 1 Axes>"
            ]
          },
          "metadata": {
            "tags": [],
            "needs_background": "light"
          }
        }
      ]
    },
    {
      "cell_type": "code",
      "metadata": {
        "colab": {
          "base_uri": "https://localhost:8080/",
          "height": 206
        },
        "id": "gb97RaGB_bJS",
        "outputId": "77a0f2b2-f8c4-4939-f0c2-b7136854cbbd"
      },
      "source": [
        "annual_cov=returns.cov()*252\n",
        "annual_cov"
      ],
      "execution_count": 16,
      "outputs": [
        {
          "output_type": "execute_result",
          "data": {
            "text/html": [
              "<div>\n",
              "<style scoped>\n",
              "    .dataframe tbody tr th:only-of-type {\n",
              "        vertical-align: middle;\n",
              "    }\n",
              "\n",
              "    .dataframe tbody tr th {\n",
              "        vertical-align: top;\n",
              "    }\n",
              "\n",
              "    .dataframe thead th {\n",
              "        text-align: right;\n",
              "    }\n",
              "</style>\n",
              "<table border=\"1\" class=\"dataframe\">\n",
              "  <thead>\n",
              "    <tr style=\"text-align: right;\">\n",
              "      <th></th>\n",
              "      <th>AMZ</th>\n",
              "      <th>FB</th>\n",
              "      <th>AAPL</th>\n",
              "      <th>NFLX</th>\n",
              "      <th>GOOG</th>\n",
              "    </tr>\n",
              "  </thead>\n",
              "  <tbody>\n",
              "    <tr>\n",
              "      <th>AMZ</th>\n",
              "      <td>0.375985</td>\n",
              "      <td>0.036780</td>\n",
              "      <td>-0.019009</td>\n",
              "      <td>-0.013053</td>\n",
              "      <td>0.054539</td>\n",
              "    </tr>\n",
              "    <tr>\n",
              "      <th>FB</th>\n",
              "      <td>0.036780</td>\n",
              "      <td>0.083427</td>\n",
              "      <td>0.025896</td>\n",
              "      <td>0.046697</td>\n",
              "      <td>0.041246</td>\n",
              "    </tr>\n",
              "    <tr>\n",
              "      <th>AAPL</th>\n",
              "      <td>-0.019009</td>\n",
              "      <td>0.025896</td>\n",
              "      <td>0.059906</td>\n",
              "      <td>0.035000</td>\n",
              "      <td>0.021230</td>\n",
              "    </tr>\n",
              "    <tr>\n",
              "      <th>NFLX</th>\n",
              "      <td>-0.013053</td>\n",
              "      <td>0.046697</td>\n",
              "      <td>0.035000</td>\n",
              "      <td>0.214144</td>\n",
              "      <td>0.048401</td>\n",
              "    </tr>\n",
              "    <tr>\n",
              "      <th>GOOG</th>\n",
              "      <td>0.054539</td>\n",
              "      <td>0.041246</td>\n",
              "      <td>0.021230</td>\n",
              "      <td>0.048401</td>\n",
              "      <td>0.063414</td>\n",
              "    </tr>\n",
              "  </tbody>\n",
              "</table>\n",
              "</div>"
            ],
            "text/plain": [
              "           AMZ        FB      AAPL      NFLX      GOOG\n",
              "AMZ   0.375985  0.036780 -0.019009 -0.013053  0.054539\n",
              "FB    0.036780  0.083427  0.025896  0.046697  0.041246\n",
              "AAPL -0.019009  0.025896  0.059906  0.035000  0.021230\n",
              "NFLX -0.013053  0.046697  0.035000  0.214144  0.048401\n",
              "GOOG  0.054539  0.041246  0.021230  0.048401  0.063414"
            ]
          },
          "metadata": {
            "tags": []
          },
          "execution_count": 16
        }
      ]
    },
    {
      "cell_type": "code",
      "metadata": {
        "colab": {
          "base_uri": "https://localhost:8080/"
        },
        "id": "xr1RRqbXAZ9E",
        "outputId": "4c1ee396-6409-4246-cafa-4e66b9e7fe5d"
      },
      "source": [
        "prtfolio_variance=np.dot(weights.T, np.dot(annual_cov, weights.T))\n",
        "prtfolio_variance"
      ],
      "execution_count": 17,
      "outputs": [
        {
          "output_type": "execute_result",
          "data": {
            "text/plain": [
              "0.05409311321075296"
            ]
          },
          "metadata": {
            "tags": []
          },
          "execution_count": 17
        }
      ]
    },
    {
      "cell_type": "code",
      "metadata": {
        "colab": {
          "base_uri": "https://localhost:8080/"
        },
        "id": "iKhHjozuBKVX",
        "outputId": "e110a3e7-3448-4481-ab53-afd1be7149ce"
      },
      "source": [
        "prtfolio_vol=np.sqrt(prtfolio_variance)\n",
        "prtfolio_vol"
      ],
      "execution_count": 18,
      "outputs": [
        {
          "output_type": "execute_result",
          "data": {
            "text/plain": [
              "0.23257926221130068"
            ]
          },
          "metadata": {
            "tags": []
          },
          "execution_count": 18
        }
      ]
    },
    {
      "cell_type": "code",
      "metadata": {
        "colab": {
          "base_uri": "https://localhost:8080/"
        },
        "id": "oeWZM4MfBcL9",
        "outputId": "fe170d6d-917d-4813-cf8e-c22b5113f026"
      },
      "source": [
        "annual_return=np.sum(returns.mean()*weights)*252\n",
        "annual_return"
      ],
      "execution_count": 19,
      "outputs": [
        {
          "output_type": "execute_result",
          "data": {
            "text/plain": [
              "0.3258760293015913"
            ]
          },
          "metadata": {
            "tags": []
          },
          "execution_count": 19
        }
      ]
    },
    {
      "cell_type": "code",
      "metadata": {
        "id": "-sWV_Vv9B7nn"
      },
      "source": [
        "prct_return=str(round(annual_return, 3)*100) +'%'\n",
        "prct_var=str(round(prtfolio_variance, 2)*100) +'%'\n",
        "prct_vol=str(round(prtfolio_vol, 2)*100) +'%'"
      ],
      "execution_count": 20,
      "outputs": []
    },
    {
      "cell_type": "code",
      "metadata": {
        "colab": {
          "base_uri": "https://localhost:8080/"
        },
        "id": "Kz3Mrc1sDIc9",
        "outputId": "972c56a9-d7f0-466b-ef1d-ad8c7f1b48aa"
      },
      "source": [
        "print('Expected annual returns: ', prct_return)\n",
        "print('Volatility/ Risk: ', prct_vol)\n",
        "print('Annual Variance: ',prct_var)"
      ],
      "execution_count": 21,
      "outputs": [
        {
          "output_type": "stream",
          "text": [
            "Expected annual returns:  32.6%\n",
            "Volatility/ Risk:  23.0%\n",
            "Annual Variance:  5.0%\n"
          ],
          "name": "stdout"
        }
      ]
    },
    {
      "cell_type": "code",
      "metadata": {
        "colab": {
          "base_uri": "https://localhost:8080/"
        },
        "id": "vyLt5IDtDwL5",
        "outputId": "f80ca94e-1bdd-4c33-e682-2d6fbcf14360"
      },
      "source": [
        "pip install PyPortfolioOpt"
      ],
      "execution_count": 22,
      "outputs": [
        {
          "output_type": "stream",
          "text": [
            "Requirement already satisfied: PyPortfolioOpt in /usr/local/lib/python3.7/dist-packages (1.4.1)\n",
            "Requirement already satisfied: cvxpy<2.0.0,>=1.1.10 in /usr/local/lib/python3.7/dist-packages (from PyPortfolioOpt) (1.1.12)\n",
            "Requirement already satisfied: numpy<2.0,>=1.12 in /usr/local/lib/python3.7/dist-packages (from PyPortfolioOpt) (1.19.5)\n",
            "Requirement already satisfied: scipy<2.0,>=1.3 in /usr/local/lib/python3.7/dist-packages (from PyPortfolioOpt) (1.4.1)\n",
            "Requirement already satisfied: pandas>=0.19 in /usr/local/lib/python3.7/dist-packages (from PyPortfolioOpt) (1.1.5)\n",
            "Requirement already satisfied: osqp>=0.4.1 in /usr/local/lib/python3.7/dist-packages (from cvxpy<2.0.0,>=1.1.10->PyPortfolioOpt) (0.6.2.post0)\n",
            "Requirement already satisfied: scs>=1.1.6 in /usr/local/lib/python3.7/dist-packages (from cvxpy<2.0.0,>=1.1.10->PyPortfolioOpt) (2.1.3)\n",
            "Requirement already satisfied: ecos>=2 in /usr/local/lib/python3.7/dist-packages (from cvxpy<2.0.0,>=1.1.10->PyPortfolioOpt) (2.0.7.post1)\n",
            "Requirement already satisfied: python-dateutil>=2.7.3 in /usr/local/lib/python3.7/dist-packages (from pandas>=0.19->PyPortfolioOpt) (2.8.1)\n",
            "Requirement already satisfied: pytz>=2017.2 in /usr/local/lib/python3.7/dist-packages (from pandas>=0.19->PyPortfolioOpt) (2018.9)\n",
            "Requirement already satisfied: qdldl in /usr/local/lib/python3.7/dist-packages (from osqp>=0.4.1->cvxpy<2.0.0,>=1.1.10->PyPortfolioOpt) (0.1.5.post0)\n",
            "Requirement already satisfied: six>=1.5 in /usr/local/lib/python3.7/dist-packages (from python-dateutil>=2.7.3->pandas>=0.19->PyPortfolioOpt) (1.15.0)\n"
          ],
          "name": "stdout"
        }
      ]
    },
    {
      "cell_type": "code",
      "metadata": {
        "id": "cDfCpdyrfA_1"
      },
      "source": [
        "from pypfopt.efficient_frontier import EfficientFrontier\n",
        "from pypfopt import risk_models\n",
        "from pypfopt import expected_returns"
      ],
      "execution_count": 23,
      "outputs": []
    },
    {
      "cell_type": "code",
      "metadata": {
        "colab": {
          "base_uri": "https://localhost:8080/"
        },
        "id": "76TQFLLafywP",
        "outputId": "ef211e19-adec-47a3-f760-b9dc9488e7e1"
      },
      "source": [
        "mean=expected_returns.mean_historical_return(df)\n",
        "s=risk_models.sample_cov(df)\n",
        "\n",
        "ef=EfficientFrontier(mean,s)\n",
        "weights=ef.max_sharpe()\n",
        "cleaned_weights=ef.clean_weights()\n",
        "print(cleaned_weights)\n",
        "ef.portfolio_performance(verbose=True)"
      ],
      "execution_count": 25,
      "outputs": [
        {
          "output_type": "stream",
          "text": [
            "OrderedDict([('AMZ', 0.0), ('FB', 0.36745), ('AAPL', 0.32081), ('NFLX', 0.31174), ('GOOG', 0.0)])\n",
            "Expected annual return: 44.9%\n",
            "Annual volatility: 24.9%\n",
            "Sharpe Ratio: 1.72\n"
          ],
          "name": "stdout"
        },
        {
          "output_type": "execute_result",
          "data": {
            "text/plain": [
              "(0.44949353660080227, 0.24908865899985194, 1.7242597006436071)"
            ]
          },
          "metadata": {
            "tags": []
          },
          "execution_count": 25
        }
      ]
    },
    {
      "cell_type": "code",
      "metadata": {
        "id": "GmpNhaC4i9jl"
      },
      "source": [
        "from pypfopt.discrete_allocation import DiscreteAllocation, get_latest_prices"
      ],
      "execution_count": 27,
      "outputs": []
    },
    {
      "cell_type": "code",
      "metadata": {
        "colab": {
          "base_uri": "https://localhost:8080/"
        },
        "id": "QkX4hBBvj56_",
        "outputId": "14d41c2d-5dfd-40da-8132-2676ac91234a"
      },
      "source": [
        "latest_prices=get_latest_prices(df)\n",
        "weights=cleaned_weights\n",
        "da=DiscreteAllocation(weights, latest_prices,total_portfolio_value=50000, short_ratio=None)\n",
        "allocation, leftover=da.lp_portfolio()\n",
        "print('Funds allocated: ', allocation)\n",
        "print('Funds remaining: ', leftover)"
      ],
      "execution_count": 28,
      "outputs": [
        {
          "output_type": "stream",
          "text": [
            "Funds allocated:  {'FB': 100, 'AAPL': 351, 'NFLX': 44}\n",
            "Funds remaining:  24.324119567871094\n"
          ],
          "name": "stdout"
        }
      ]
    },
    {
      "cell_type": "code",
      "metadata": {
        "id": "zWz4cPKxk1E1"
      },
      "source": [
        ""
      ],
      "execution_count": null,
      "outputs": []
    }
  ]
}